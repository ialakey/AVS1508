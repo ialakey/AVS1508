{
  "nbformat": 4,
  "nbformat_minor": 0,
  "metadata": {
    "colab": {
      "provenance": [],
      "collapsed_sections": [
        "b3W5CFQELLHN",
        "lM_kzGsILP7S"
      ],
      "toc_visible": true,
      "include_colab_link": true
    },
    "kernelspec": {
      "name": "python3",
      "display_name": "Python 3"
    },
    "language_info": {
      "name": "python"
    }
  },
  "cells": [
    {
      "cell_type": "markdown",
      "metadata": {
        "id": "view-in-github",
        "colab_type": "text"
      },
      "source": [
        "<a href=\"https://colab.research.google.com/github/ialakey/AVS1508/blob/master/Automatic_YouTubeShorts_Generator_AnishMalla.ipynb\" target=\"_parent\"><img src=\"https://colab.research.google.com/assets/colab-badge.svg\" alt=\"Open In Colab\"/></a>"
      ]
    },
    {
      "cell_type": "markdown",
      "source": [
        "#Imports and Initial Setup"
      ],
      "metadata": {
        "id": "b3W5CFQELLHN"
      }
    },
    {
      "cell_type": "code",
      "source": [
        "!apt install imagemagick\n",
        "!cat /etc/ImageMagick-6/policy.xml | sed 's/none/read,write/g'> /etc/ImageMagick-6/policy.xml"
      ],
      "metadata": {
        "colab": {
          "base_uri": "https://localhost:8080/"
        },
        "id": "aMChkSJWfjHv",
        "outputId": "34a58e09-e9f7-4558-ec53-2db9369d6ea5"
      },
      "execution_count": null,
      "outputs": [
        {
          "output_type": "stream",
          "name": "stdout",
          "text": [
            "Reading package lists... Done\n",
            "Building dependency tree       \n",
            "Reading state information... Done\n",
            "The following additional packages will be installed:\n",
            "  fonts-droid-fallback fonts-noto-mono fonts-urw-base35 ghostscript gsfonts\n",
            "  imagemagick-6-common imagemagick-6.q16 libdjvulibre-text libdjvulibre21\n",
            "  libgs9 libgs9-common libidn11 libijs-0.35 libjbig2dec0 liblqr-1-0\n",
            "  libmagickcore-6.q16-6 libmagickcore-6.q16-6-extra libmagickwand-6.q16-6\n",
            "  libnetpbm10 libwmf0.2-7 netpbm poppler-data\n",
            "Suggested packages:\n",
            "  fonts-noto fonts-freefont-otf | fonts-freefont-ttf fonts-texgyre\n",
            "  ghostscript-x imagemagick-doc autotrace cups-bsd | lpr | lprng enscript gimp\n",
            "  gnuplot grads hp2xx html2ps libwmf-bin mplayer povray radiance sane-utils\n",
            "  texlive-base-bin transfig ufraw-batch inkscape libjxr-tools libwmf0.2-7-gtk\n",
            "  poppler-utils fonts-japanese-mincho | fonts-ipafont-mincho\n",
            "  fonts-japanese-gothic | fonts-ipafont-gothic fonts-arphic-ukai\n",
            "  fonts-arphic-uming fonts-nanum\n",
            "The following NEW packages will be installed:\n",
            "  fonts-droid-fallback fonts-noto-mono fonts-urw-base35 ghostscript gsfonts\n",
            "  imagemagick imagemagick-6-common imagemagick-6.q16 libdjvulibre-text\n",
            "  libdjvulibre21 libgs9 libgs9-common libidn11 libijs-0.35 libjbig2dec0\n",
            "  liblqr-1-0 libmagickcore-6.q16-6 libmagickcore-6.q16-6-extra\n",
            "  libmagickwand-6.q16-6 libnetpbm10 libwmf0.2-7 netpbm poppler-data\n",
            "0 upgraded, 23 newly installed, 0 to remove and 38 not upgraded.\n",
            "Need to get 20.2 MB of archives.\n",
            "After this operation, 73.9 MB of additional disk space will be used.\n",
            "Get:1 http://archive.ubuntu.com/ubuntu focal/main amd64 fonts-droid-fallback all 1:6.0.1r16-1.1 [1,805 kB]\n",
            "Get:2 http://archive.ubuntu.com/ubuntu focal/universe amd64 liblqr-1-0 amd64 0.4.2-2.1 [27.7 kB]\n",
            "Get:3 http://archive.ubuntu.com/ubuntu focal-updates/universe amd64 imagemagick-6-common all 8:6.9.10.23+dfsg-2.1ubuntu11.7 [61.0 kB]\n",
            "Get:4 http://archive.ubuntu.com/ubuntu focal-updates/universe amd64 libmagickcore-6.q16-6 amd64 8:6.9.10.23+dfsg-2.1ubuntu11.7 [1,647 kB]\n",
            "Get:5 http://archive.ubuntu.com/ubuntu focal-updates/universe amd64 libmagickwand-6.q16-6 amd64 8:6.9.10.23+dfsg-2.1ubuntu11.7 [303 kB]\n",
            "Get:6 http://archive.ubuntu.com/ubuntu focal/main amd64 poppler-data all 0.4.9-2 [1,475 kB]\n",
            "Get:7 http://archive.ubuntu.com/ubuntu focal-updates/main amd64 fonts-noto-mono all 20200323-1build1~ubuntu20.04.1 [80.6 kB]\n",
            "Get:8 http://archive.ubuntu.com/ubuntu focal/main amd64 fonts-urw-base35 all 20170801.1-3 [6,333 kB]\n",
            "Get:9 http://archive.ubuntu.com/ubuntu focal-updates/main amd64 libgs9-common all 9.50~dfsg-5ubuntu4.7 [681 kB]\n",
            "Get:10 http://archive.ubuntu.com/ubuntu focal/main amd64 libidn11 amd64 1.33-2.2ubuntu2 [46.2 kB]\n",
            "Get:11 http://archive.ubuntu.com/ubuntu focal/main amd64 libijs-0.35 amd64 0.35-15 [15.7 kB]\n",
            "Get:12 http://archive.ubuntu.com/ubuntu focal/main amd64 libjbig2dec0 amd64 0.18-1ubuntu1 [60.0 kB]\n",
            "Get:13 http://archive.ubuntu.com/ubuntu focal-updates/main amd64 libgs9 amd64 9.50~dfsg-5ubuntu4.7 [2,173 kB]\n",
            "Get:14 http://archive.ubuntu.com/ubuntu focal-updates/main amd64 ghostscript amd64 9.50~dfsg-5ubuntu4.7 [51.9 kB]\n",
            "Get:15 http://archive.ubuntu.com/ubuntu focal/universe amd64 gsfonts all 1:8.11+urwcyr1.0.7~pre44-4.4 [3,120 kB]\n",
            "Get:16 http://archive.ubuntu.com/ubuntu focal-updates/universe amd64 imagemagick-6.q16 amd64 8:6.9.10.23+dfsg-2.1ubuntu11.7 [427 kB]\n",
            "Get:17 http://archive.ubuntu.com/ubuntu focal-updates/universe amd64 imagemagick amd64 8:6.9.10.23+dfsg-2.1ubuntu11.7 [14.4 kB]\n",
            "Get:18 http://archive.ubuntu.com/ubuntu focal-updates/main amd64 libdjvulibre-text all 3.5.27.1-14ubuntu0.1 [49.2 kB]\n",
            "Get:19 http://archive.ubuntu.com/ubuntu focal-updates/main amd64 libdjvulibre21 amd64 3.5.27.1-14ubuntu0.1 [578 kB]\n",
            "Get:20 http://archive.ubuntu.com/ubuntu focal/main amd64 libwmf0.2-7 amd64 0.2.8.4-17ubuntu1 [149 kB]\n",
            "Get:21 http://archive.ubuntu.com/ubuntu focal-updates/universe amd64 libmagickcore-6.q16-6-extra amd64 8:6.9.10.23+dfsg-2.1ubuntu11.7 [64.7 kB]\n",
            "Get:22 http://archive.ubuntu.com/ubuntu focal/universe amd64 libnetpbm10 amd64 2:10.0-15.3build1 [58.0 kB]\n",
            "Get:23 http://archive.ubuntu.com/ubuntu focal/universe amd64 netpbm amd64 2:10.0-15.3build1 [1,017 kB]\n",
            "Fetched 20.2 MB in 2s (8,561 kB/s)\n",
            "Selecting previously unselected package fonts-droid-fallback.\n",
            "(Reading database ... 122541 files and directories currently installed.)\n",
            "Preparing to unpack .../00-fonts-droid-fallback_1%3a6.0.1r16-1.1_all.deb ...\n",
            "Unpacking fonts-droid-fallback (1:6.0.1r16-1.1) ...\n",
            "Selecting previously unselected package liblqr-1-0:amd64.\n",
            "Preparing to unpack .../01-liblqr-1-0_0.4.2-2.1_amd64.deb ...\n",
            "Unpacking liblqr-1-0:amd64 (0.4.2-2.1) ...\n",
            "Selecting previously unselected package imagemagick-6-common.\n",
            "Preparing to unpack .../02-imagemagick-6-common_8%3a6.9.10.23+dfsg-2.1ubuntu11.7_all.deb ...\n",
            "Unpacking imagemagick-6-common (8:6.9.10.23+dfsg-2.1ubuntu11.7) ...\n",
            "Selecting previously unselected package libmagickcore-6.q16-6:amd64.\n",
            "Preparing to unpack .../03-libmagickcore-6.q16-6_8%3a6.9.10.23+dfsg-2.1ubuntu11.7_amd64.deb ...\n",
            "Unpacking libmagickcore-6.q16-6:amd64 (8:6.9.10.23+dfsg-2.1ubuntu11.7) ...\n",
            "Selecting previously unselected package libmagickwand-6.q16-6:amd64.\n",
            "Preparing to unpack .../04-libmagickwand-6.q16-6_8%3a6.9.10.23+dfsg-2.1ubuntu11.7_amd64.deb ...\n",
            "Unpacking libmagickwand-6.q16-6:amd64 (8:6.9.10.23+dfsg-2.1ubuntu11.7) ...\n",
            "Selecting previously unselected package poppler-data.\n",
            "Preparing to unpack .../05-poppler-data_0.4.9-2_all.deb ...\n",
            "Unpacking poppler-data (0.4.9-2) ...\n",
            "Selecting previously unselected package fonts-noto-mono.\n",
            "Preparing to unpack .../06-fonts-noto-mono_20200323-1build1~ubuntu20.04.1_all.deb ...\n",
            "Unpacking fonts-noto-mono (20200323-1build1~ubuntu20.04.1) ...\n",
            "Selecting previously unselected package fonts-urw-base35.\n",
            "Preparing to unpack .../07-fonts-urw-base35_20170801.1-3_all.deb ...\n",
            "Unpacking fonts-urw-base35 (20170801.1-3) ...\n",
            "Selecting previously unselected package libgs9-common.\n",
            "Preparing to unpack .../08-libgs9-common_9.50~dfsg-5ubuntu4.7_all.deb ...\n",
            "Unpacking libgs9-common (9.50~dfsg-5ubuntu4.7) ...\n",
            "Selecting previously unselected package libidn11:amd64.\n",
            "Preparing to unpack .../09-libidn11_1.33-2.2ubuntu2_amd64.deb ...\n",
            "Unpacking libidn11:amd64 (1.33-2.2ubuntu2) ...\n",
            "Selecting previously unselected package libijs-0.35:amd64.\n",
            "Preparing to unpack .../10-libijs-0.35_0.35-15_amd64.deb ...\n",
            "Unpacking libijs-0.35:amd64 (0.35-15) ...\n",
            "Selecting previously unselected package libjbig2dec0:amd64.\n",
            "Preparing to unpack .../11-libjbig2dec0_0.18-1ubuntu1_amd64.deb ...\n",
            "Unpacking libjbig2dec0:amd64 (0.18-1ubuntu1) ...\n",
            "Selecting previously unselected package libgs9:amd64.\n",
            "Preparing to unpack .../12-libgs9_9.50~dfsg-5ubuntu4.7_amd64.deb ...\n",
            "Unpacking libgs9:amd64 (9.50~dfsg-5ubuntu4.7) ...\n",
            "Selecting previously unselected package ghostscript.\n",
            "Preparing to unpack .../13-ghostscript_9.50~dfsg-5ubuntu4.7_amd64.deb ...\n",
            "Unpacking ghostscript (9.50~dfsg-5ubuntu4.7) ...\n",
            "Selecting previously unselected package gsfonts.\n",
            "Preparing to unpack .../14-gsfonts_1%3a8.11+urwcyr1.0.7~pre44-4.4_all.deb ...\n",
            "Unpacking gsfonts (1:8.11+urwcyr1.0.7~pre44-4.4) ...\n",
            "Selecting previously unselected package imagemagick-6.q16.\n",
            "Preparing to unpack .../15-imagemagick-6.q16_8%3a6.9.10.23+dfsg-2.1ubuntu11.7_amd64.deb ...\n",
            "Unpacking imagemagick-6.q16 (8:6.9.10.23+dfsg-2.1ubuntu11.7) ...\n",
            "Selecting previously unselected package imagemagick.\n",
            "Preparing to unpack .../16-imagemagick_8%3a6.9.10.23+dfsg-2.1ubuntu11.7_amd64.deb ...\n",
            "Unpacking imagemagick (8:6.9.10.23+dfsg-2.1ubuntu11.7) ...\n",
            "Selecting previously unselected package libdjvulibre-text.\n",
            "Preparing to unpack .../17-libdjvulibre-text_3.5.27.1-14ubuntu0.1_all.deb ...\n",
            "Unpacking libdjvulibre-text (3.5.27.1-14ubuntu0.1) ...\n",
            "Selecting previously unselected package libdjvulibre21:amd64.\n",
            "Preparing to unpack .../18-libdjvulibre21_3.5.27.1-14ubuntu0.1_amd64.deb ...\n",
            "Unpacking libdjvulibre21:amd64 (3.5.27.1-14ubuntu0.1) ...\n",
            "Selecting previously unselected package libwmf0.2-7:amd64.\n",
            "Preparing to unpack .../19-libwmf0.2-7_0.2.8.4-17ubuntu1_amd64.deb ...\n",
            "Unpacking libwmf0.2-7:amd64 (0.2.8.4-17ubuntu1) ...\n",
            "Selecting previously unselected package libmagickcore-6.q16-6-extra:amd64.\n",
            "Preparing to unpack .../20-libmagickcore-6.q16-6-extra_8%3a6.9.10.23+dfsg-2.1ubuntu11.7_amd64.deb ...\n",
            "Unpacking libmagickcore-6.q16-6-extra:amd64 (8:6.9.10.23+dfsg-2.1ubuntu11.7) ...\n",
            "Selecting previously unselected package libnetpbm10.\n",
            "Preparing to unpack .../21-libnetpbm10_2%3a10.0-15.3build1_amd64.deb ...\n",
            "Unpacking libnetpbm10 (2:10.0-15.3build1) ...\n",
            "Selecting previously unselected package netpbm.\n",
            "Preparing to unpack .../22-netpbm_2%3a10.0-15.3build1_amd64.deb ...\n",
            "Unpacking netpbm (2:10.0-15.3build1) ...\n",
            "Setting up imagemagick-6-common (8:6.9.10.23+dfsg-2.1ubuntu11.7) ...\n",
            "Setting up fonts-noto-mono (20200323-1build1~ubuntu20.04.1) ...\n",
            "Setting up libwmf0.2-7:amd64 (0.2.8.4-17ubuntu1) ...\n",
            "Setting up libijs-0.35:amd64 (0.35-15) ...\n",
            "Setting up libnetpbm10 (2:10.0-15.3build1) ...\n",
            "Setting up fonts-urw-base35 (20170801.1-3) ...\n",
            "Setting up poppler-data (0.4.9-2) ...\n",
            "Setting up libjbig2dec0:amd64 (0.18-1ubuntu1) ...\n",
            "Setting up libidn11:amd64 (1.33-2.2ubuntu2) ...\n",
            "Setting up gsfonts (1:8.11+urwcyr1.0.7~pre44-4.4) ...\n",
            "Setting up netpbm (2:10.0-15.3build1) ...\n",
            "Setting up liblqr-1-0:amd64 (0.4.2-2.1) ...\n",
            "Setting up fonts-droid-fallback (1:6.0.1r16-1.1) ...\n",
            "Setting up libdjvulibre-text (3.5.27.1-14ubuntu0.1) ...\n",
            "Setting up libgs9-common (9.50~dfsg-5ubuntu4.7) ...\n",
            "Setting up libgs9:amd64 (9.50~dfsg-5ubuntu4.7) ...\n",
            "Setting up libdjvulibre21:amd64 (3.5.27.1-14ubuntu0.1) ...\n",
            "Setting up ghostscript (9.50~dfsg-5ubuntu4.7) ...\n",
            "Setting up libmagickcore-6.q16-6:amd64 (8:6.9.10.23+dfsg-2.1ubuntu11.7) ...\n",
            "Setting up libmagickwand-6.q16-6:amd64 (8:6.9.10.23+dfsg-2.1ubuntu11.7) ...\n",
            "Setting up libmagickcore-6.q16-6-extra:amd64 (8:6.9.10.23+dfsg-2.1ubuntu11.7) ...\n",
            "Setting up imagemagick-6.q16 (8:6.9.10.23+dfsg-2.1ubuntu11.7) ...\n",
            "update-alternatives: using /usr/bin/compare-im6.q16 to provide /usr/bin/compare (compare) in auto mode\n",
            "update-alternatives: using /usr/bin/compare-im6.q16 to provide /usr/bin/compare-im6 (compare-im6) in auto mode\n",
            "update-alternatives: using /usr/bin/animate-im6.q16 to provide /usr/bin/animate (animate) in auto mode\n",
            "update-alternatives: using /usr/bin/animate-im6.q16 to provide /usr/bin/animate-im6 (animate-im6) in auto mode\n",
            "update-alternatives: using /usr/bin/convert-im6.q16 to provide /usr/bin/convert (convert) in auto mode\n",
            "update-alternatives: using /usr/bin/convert-im6.q16 to provide /usr/bin/convert-im6 (convert-im6) in auto mode\n",
            "update-alternatives: using /usr/bin/composite-im6.q16 to provide /usr/bin/composite (composite) in auto mode\n",
            "update-alternatives: using /usr/bin/composite-im6.q16 to provide /usr/bin/composite-im6 (composite-im6) in auto mode\n",
            "update-alternatives: using /usr/bin/conjure-im6.q16 to provide /usr/bin/conjure (conjure) in auto mode\n",
            "update-alternatives: using /usr/bin/conjure-im6.q16 to provide /usr/bin/conjure-im6 (conjure-im6) in auto mode\n",
            "update-alternatives: using /usr/bin/import-im6.q16 to provide /usr/bin/import (import) in auto mode\n",
            "update-alternatives: using /usr/bin/import-im6.q16 to provide /usr/bin/import-im6 (import-im6) in auto mode\n",
            "update-alternatives: using /usr/bin/identify-im6.q16 to provide /usr/bin/identify (identify) in auto mode\n",
            "update-alternatives: using /usr/bin/identify-im6.q16 to provide /usr/bin/identify-im6 (identify-im6) in auto mode\n",
            "update-alternatives: using /usr/bin/stream-im6.q16 to provide /usr/bin/stream (stream) in auto mode\n",
            "update-alternatives: using /usr/bin/stream-im6.q16 to provide /usr/bin/stream-im6 (stream-im6) in auto mode\n",
            "update-alternatives: using /usr/bin/display-im6.q16 to provide /usr/bin/display (display) in auto mode\n",
            "update-alternatives: using /usr/bin/display-im6.q16 to provide /usr/bin/display-im6 (display-im6) in auto mode\n",
            "update-alternatives: using /usr/bin/montage-im6.q16 to provide /usr/bin/montage (montage) in auto mode\n",
            "update-alternatives: using /usr/bin/montage-im6.q16 to provide /usr/bin/montage-im6 (montage-im6) in auto mode\n",
            "update-alternatives: using /usr/bin/mogrify-im6.q16 to provide /usr/bin/mogrify (mogrify) in auto mode\n",
            "update-alternatives: using /usr/bin/mogrify-im6.q16 to provide /usr/bin/mogrify-im6 (mogrify-im6) in auto mode\n",
            "Setting up imagemagick (8:6.9.10.23+dfsg-2.1ubuntu11.7) ...\n",
            "Processing triggers for mime-support (3.64ubuntu1) ...\n",
            "Processing triggers for hicolor-icon-theme (0.17-2) ...\n",
            "Processing triggers for libc-bin (2.31-0ubuntu9.9) ...\n",
            "Processing triggers for man-db (2.9.1-1) ...\n",
            "Processing triggers for fontconfig (2.13.1-2ubuntu3) ...\n"
          ]
        }
      ]
    },
    {
      "cell_type": "code",
      "source": [
        "!pip install -q pytube youtube_transcript_api moviepy"
      ],
      "metadata": {
        "id": "K3rYbIv_nJP6",
        "colab": {
          "base_uri": "https://localhost:8080/"
        },
        "outputId": "dcf98aa5-5191-489b-b0a6-614f74721719"
      },
      "execution_count": null,
      "outputs": [
        {
          "output_type": "stream",
          "name": "stdout",
          "text": [
            "\u001b[?25l     \u001b[90m━━━━━━━━━━━━━━━━━━━━━━━━━━━━━━━━━━━━━━━━\u001b[0m \u001b[32m0.0/57.6 kB\u001b[0m \u001b[31m?\u001b[0m eta \u001b[36m-:--:--\u001b[0m\r\u001b[2K     \u001b[90m━━━━━━━━━━━━━━━━━━━━━━━━━━━━━━━━━━━━━━━━\u001b[0m \u001b[32m57.6/57.6 kB\u001b[0m \u001b[31m3.9 MB/s\u001b[0m eta \u001b[36m0:00:00\u001b[0m\n",
            "\u001b[?25h"
          ]
        }
      ]
    },
    {
      "cell_type": "code",
      "source": [
        "import requests\n",
        "import matplotlib.pyplot as plt\n",
        "import seaborn as sns\n",
        "\n",
        "from pytube import YouTube\n",
        "import moviepy\n",
        "from moviepy.editor import *\n",
        "\n",
        "from moviepy.video.tools.subtitles import SubtitlesClip\n",
        "from moviepy.video.io.VideoFileClip import VideoFileClip\n",
        "\n",
        "from youtube_transcript_api import YouTubeTranscriptApi\n",
        "from youtube_transcript_api.formatters import SRTFormatter\n",
        "\n",
        "import os\n",
        "import subprocess"
      ],
      "metadata": {
        "id": "qOHkH8U3Orya"
      },
      "execution_count": null,
      "outputs": []
    },
    {
      "cell_type": "markdown",
      "source": [
        "#Function definitions"
      ],
      "metadata": {
        "id": "lM_kzGsILP7S"
      }
    },
    {
      "cell_type": "code",
      "source": [
        "from google.colab import drive\n",
        "drive.mount('/content/drive')"
      ],
      "metadata": {
        "id": "ZW8bcDEAqCJm",
        "outputId": "d6a745c5-1004-4526-8db6-7b2c4a70476e",
        "colab": {
          "base_uri": "https://localhost:8080/",
          "height": 321
        }
      },
      "execution_count": 3,
      "outputs": [
        {
          "output_type": "error",
          "ename": "MessageError",
          "evalue": "Error: credential propagation was unsuccessful",
          "traceback": [
            "\u001b[0;31m---------------------------------------------------------------------------\u001b[0m",
            "\u001b[0;31mMessageError\u001b[0m                              Traceback (most recent call last)",
            "\u001b[0;32m<ipython-input-3-d5df0069828e>\u001b[0m in \u001b[0;36m<cell line: 2>\u001b[0;34m()\u001b[0m\n\u001b[1;32m      1\u001b[0m \u001b[0;32mfrom\u001b[0m \u001b[0mgoogle\u001b[0m\u001b[0;34m.\u001b[0m\u001b[0mcolab\u001b[0m \u001b[0;32mimport\u001b[0m \u001b[0mdrive\u001b[0m\u001b[0;34m\u001b[0m\u001b[0;34m\u001b[0m\u001b[0m\n\u001b[0;32m----> 2\u001b[0;31m \u001b[0mdrive\u001b[0m\u001b[0;34m.\u001b[0m\u001b[0mmount\u001b[0m\u001b[0;34m(\u001b[0m\u001b[0;34m'/content/drive'\u001b[0m\u001b[0;34m)\u001b[0m\u001b[0;34m\u001b[0m\u001b[0;34m\u001b[0m\u001b[0m\n\u001b[0m",
            "\u001b[0;32m/usr/local/lib/python3.10/dist-packages/google/colab/drive.py\u001b[0m in \u001b[0;36mmount\u001b[0;34m(mountpoint, force_remount, timeout_ms, readonly)\u001b[0m\n\u001b[1;32m     98\u001b[0m \u001b[0;32mdef\u001b[0m \u001b[0mmount\u001b[0m\u001b[0;34m(\u001b[0m\u001b[0mmountpoint\u001b[0m\u001b[0;34m,\u001b[0m \u001b[0mforce_remount\u001b[0m\u001b[0;34m=\u001b[0m\u001b[0;32mFalse\u001b[0m\u001b[0;34m,\u001b[0m \u001b[0mtimeout_ms\u001b[0m\u001b[0;34m=\u001b[0m\u001b[0;36m120000\u001b[0m\u001b[0;34m,\u001b[0m \u001b[0mreadonly\u001b[0m\u001b[0;34m=\u001b[0m\u001b[0;32mFalse\u001b[0m\u001b[0;34m)\u001b[0m\u001b[0;34m:\u001b[0m\u001b[0;34m\u001b[0m\u001b[0;34m\u001b[0m\u001b[0m\n\u001b[1;32m     99\u001b[0m   \u001b[0;34m\"\"\"Mount your Google Drive at the specified mountpoint path.\"\"\"\u001b[0m\u001b[0;34m\u001b[0m\u001b[0;34m\u001b[0m\u001b[0m\n\u001b[0;32m--> 100\u001b[0;31m   return _mount(\n\u001b[0m\u001b[1;32m    101\u001b[0m       \u001b[0mmountpoint\u001b[0m\u001b[0;34m,\u001b[0m\u001b[0;34m\u001b[0m\u001b[0;34m\u001b[0m\u001b[0m\n\u001b[1;32m    102\u001b[0m       \u001b[0mforce_remount\u001b[0m\u001b[0;34m=\u001b[0m\u001b[0mforce_remount\u001b[0m\u001b[0;34m,\u001b[0m\u001b[0;34m\u001b[0m\u001b[0;34m\u001b[0m\u001b[0m\n",
            "\u001b[0;32m/usr/local/lib/python3.10/dist-packages/google/colab/drive.py\u001b[0m in \u001b[0;36m_mount\u001b[0;34m(mountpoint, force_remount, timeout_ms, ephemeral, readonly)\u001b[0m\n\u001b[1;32m    131\u001b[0m   )\n\u001b[1;32m    132\u001b[0m   \u001b[0;32mif\u001b[0m \u001b[0mephemeral\u001b[0m\u001b[0;34m:\u001b[0m\u001b[0;34m\u001b[0m\u001b[0;34m\u001b[0m\u001b[0m\n\u001b[0;32m--> 133\u001b[0;31m     _message.blocking_request(\n\u001b[0m\u001b[1;32m    134\u001b[0m         \u001b[0;34m'request_auth'\u001b[0m\u001b[0;34m,\u001b[0m \u001b[0mrequest\u001b[0m\u001b[0;34m=\u001b[0m\u001b[0;34m{\u001b[0m\u001b[0;34m'authType'\u001b[0m\u001b[0;34m:\u001b[0m \u001b[0;34m'dfs_ephemeral'\u001b[0m\u001b[0;34m}\u001b[0m\u001b[0;34m,\u001b[0m \u001b[0mtimeout_sec\u001b[0m\u001b[0;34m=\u001b[0m\u001b[0;32mNone\u001b[0m\u001b[0;34m\u001b[0m\u001b[0;34m\u001b[0m\u001b[0m\n\u001b[1;32m    135\u001b[0m     )\n",
            "\u001b[0;32m/usr/local/lib/python3.10/dist-packages/google/colab/_message.py\u001b[0m in \u001b[0;36mblocking_request\u001b[0;34m(request_type, request, timeout_sec, parent)\u001b[0m\n\u001b[1;32m    174\u001b[0m       \u001b[0mrequest_type\u001b[0m\u001b[0;34m,\u001b[0m \u001b[0mrequest\u001b[0m\u001b[0;34m,\u001b[0m \u001b[0mparent\u001b[0m\u001b[0;34m=\u001b[0m\u001b[0mparent\u001b[0m\u001b[0;34m,\u001b[0m \u001b[0mexpect_reply\u001b[0m\u001b[0;34m=\u001b[0m\u001b[0;32mTrue\u001b[0m\u001b[0;34m\u001b[0m\u001b[0;34m\u001b[0m\u001b[0m\n\u001b[1;32m    175\u001b[0m   )\n\u001b[0;32m--> 176\u001b[0;31m   \u001b[0;32mreturn\u001b[0m \u001b[0mread_reply_from_input\u001b[0m\u001b[0;34m(\u001b[0m\u001b[0mrequest_id\u001b[0m\u001b[0;34m,\u001b[0m \u001b[0mtimeout_sec\u001b[0m\u001b[0;34m)\u001b[0m\u001b[0;34m\u001b[0m\u001b[0;34m\u001b[0m\u001b[0m\n\u001b[0m",
            "\u001b[0;32m/usr/local/lib/python3.10/dist-packages/google/colab/_message.py\u001b[0m in \u001b[0;36mread_reply_from_input\u001b[0;34m(message_id, timeout_sec)\u001b[0m\n\u001b[1;32m    101\u001b[0m     ):\n\u001b[1;32m    102\u001b[0m       \u001b[0;32mif\u001b[0m \u001b[0;34m'error'\u001b[0m \u001b[0;32min\u001b[0m \u001b[0mreply\u001b[0m\u001b[0;34m:\u001b[0m\u001b[0;34m\u001b[0m\u001b[0;34m\u001b[0m\u001b[0m\n\u001b[0;32m--> 103\u001b[0;31m         \u001b[0;32mraise\u001b[0m \u001b[0mMessageError\u001b[0m\u001b[0;34m(\u001b[0m\u001b[0mreply\u001b[0m\u001b[0;34m[\u001b[0m\u001b[0;34m'error'\u001b[0m\u001b[0;34m]\u001b[0m\u001b[0;34m)\u001b[0m\u001b[0;34m\u001b[0m\u001b[0;34m\u001b[0m\u001b[0m\n\u001b[0m\u001b[1;32m    104\u001b[0m       \u001b[0;32mreturn\u001b[0m \u001b[0mreply\u001b[0m\u001b[0;34m.\u001b[0m\u001b[0mget\u001b[0m\u001b[0;34m(\u001b[0m\u001b[0;34m'data'\u001b[0m\u001b[0;34m,\u001b[0m \u001b[0;32mNone\u001b[0m\u001b[0;34m)\u001b[0m\u001b[0;34m\u001b[0m\u001b[0;34m\u001b[0m\u001b[0m\n\u001b[1;32m    105\u001b[0m \u001b[0;34m\u001b[0m\u001b[0m\n",
            "\u001b[0;31mMessageError\u001b[0m: Error: credential propagation was unsuccessful"
          ]
        }
      ]
    },
    {
      "cell_type": "code",
      "source": [
        "def get_all_markers(video_id):\n",
        "    try:\n",
        "        x = requests.get(f'https://yt.lemnoslife.com/videos?part=mostReplayed&id={video_id}').json()\n",
        "        print(\"Video markers downloaded\")\n",
        "        return x[\"items\"][0][\"mostReplayed\"][\"heatMarkers\"]\n",
        "    except:\n",
        "        print(f\"This video ({video_id}) does not contain any corresponding heat markers.\")\n",
        "        return None"
      ],
      "metadata": {
        "id": "kltyfwECllv4"
      },
      "execution_count": null,
      "outputs": []
    },
    {
      "cell_type": "code",
      "source": [
        "def get_top_k_moments(all_markers, k=10):\n",
        "    all_intensities = sorted([(marker['heatMarkerRenderer']['heatMarkerIntensityScoreNormalized'], indx) for indx, marker in enumerate(all_markers) if indx > 4 and indx < 96], key=lambda x:-x[0])\n",
        "    return [all_markers[indx] for (intensity, indx) in all_intensities[:k]]"
      ],
      "metadata": {
        "id": "EbMrAr-nmlwm"
      },
      "execution_count": null,
      "outputs": []
    },
    {
      "cell_type": "code",
      "source": [
        "def download_video(video_id, file_path):\n",
        "    link = f\"https://www.youtube.com/watch?v={video_id}\"\n",
        "    yt = YouTube(link)\n",
        "    yt = yt.streams.get_highest_resolution()\n",
        "    try:\n",
        "        yt.download(file_path)\n",
        "    except:\n",
        "        print(\"Error has occured video can not be downloaded\")\n",
        "    print(f\"Download is completed successfully for {video_id}\")"
      ],
      "metadata": {
        "id": "5FI6ObfYoBS1"
      },
      "execution_count": null,
      "outputs": []
    },
    {
      "cell_type": "code",
      "source": [
        "def download_mp3(video_id, file_path):\n",
        "    link = f\"https://www.youtube.com/watch?v={video_id}\"\n",
        "    yt = YouTube(link)\n",
        "    yt = yt.streams.get_highest_resolution()\n",
        "    try:\n",
        "        yt.download(file_path)\n",
        "\n",
        "        mp4_file_path = os.path.join(file_path, os.listdir(file_path)[0])\n",
        "\n",
        "        subprocess.run([\n",
        "            'ffmpeg',\n",
        "            '-i', mp4_file_path,\n",
        "            os.path.join(file_path, \"bgm.mp3\")\n",
        "        ])\n",
        "    except:\n",
        "        print(\"Error has occured video can not be downloaded\")\n",
        "\n",
        "    print(f\"Download is completed successfully for {video_id}\")"
      ],
      "metadata": {
        "id": "8DzJHmtg6y6E"
      },
      "execution_count": null,
      "outputs": []
    },
    {
      "cell_type": "code",
      "source": [
        "def get_transcript(video_id):\n",
        "    try:\n",
        "        transcript = YouTubeTranscriptApi.get_transcript(video_id)\n",
        "        formatter = SRTFormatter()\n",
        "        srt_formatted = formatter.format_transcript(transcript)\n",
        "\n",
        "        with open('main_video_captions.srt', 'w', encoding='utf-8') as f:\n",
        "            f.write(srt_formatted)\n",
        "\n",
        "        print(\"Transcript written to main_video_captions.srt\")\n",
        "    except:\n",
        "        print(\"Transcript not found\")"
      ],
      "metadata": {
        "id": "wVI_HVZ62PaS"
      },
      "execution_count": null,
      "outputs": []
    },
    {
      "cell_type": "code",
      "source": [
        "def add_subtitles_to_video(video_path):\n",
        "    generator = lambda txt: TextClip(txt, font='Georgia-Regular', fontsize=40, color='white', bg_color='black')\n",
        "    sub = SubtitlesClip(\"/content/main_video_captions.srt\", generator)\n",
        "    video = VideoFileClip(video_path)\n",
        "    return CompositeVideoClip([video, sub.set_pos(('center', 'bottom'))])"
      ],
      "metadata": {
        "id": "iMHrhO1A4jwl"
      },
      "execution_count": null,
      "outputs": []
    },
    {
      "cell_type": "code",
      "source": [
        "def download_videos(videos):\n",
        "    file_num = 1\n",
        "    for video in videos:\n",
        "        video.write_videofile(f\"out_video_{file_num}.mp4\",\n",
        "                            codec='libx264',\n",
        "                            audio_codec='aac',\n",
        "                            temp_audiofile='temp-audio.m4a',\n",
        "                            remove_temp=True\n",
        "                            )\n",
        "        print(f\"Saved file out_video_{file_num}\")\n",
        "        file_num += 1"
      ],
      "metadata": {
        "id": "k1X2CFjtJieI"
      },
      "execution_count": null,
      "outputs": []
    },
    {
      "cell_type": "markdown",
      "source": [
        "#Main Section"
      ],
      "metadata": {
        "id": "5Fd_1QYdRRTY"
      }
    },
    {
      "cell_type": "code",
      "source": [
        "#@title Main Run\n",
        "main_video_id = \"6xIeLJGcpfU\" #@param {type:\"string\"}\n",
        "below_video_id = \"Pt5_GSKIWQM\" #@param {type:\"string\"}\n",
        "bgm_music_video_id = \"WE8TinxNPb0\" #@param {type:\"string\"}\n",
        "k = 2 #@param {type:\"integer\"}\n",
        "\n",
        "all_markers = get_all_markers(main_video_id)\n",
        "top_k_markers = get_top_k_moments(all_markers, k=k)\n",
        "\n",
        "main_video_file_path = \"/content/main_video\"\n",
        "below_video_file_path = \"/content/below_video\"\n",
        "bgm_mp3_file_path = \"/content/bgm_music\"\n",
        "\n",
        "download_video(main_video_id, main_video_file_path)\n",
        "download_video(below_video_id, below_video_file_path)\n",
        "download_mp3(bgm_music_video_id, bgm_mp3_file_path)\n",
        "\n",
        "main_video_file_path = os.path.join(main_video_file_path, os.listdir(main_video_file_path)[0])\n",
        "below_video_file_path = os.path.join(below_video_file_path, os.listdir(below_video_file_path)[0])\n",
        "bgm_mp3_file_path = os.path.join(bgm_mp3_file_path, os.listdir(bgm_mp3_file_path)[0])\n",
        "\n",
        "get_transcript(main_video_id)\n",
        "\n",
        "main_video_with_subtitles = add_subtitles_to_video(main_video_file_path)\n",
        "\n",
        "videos = []\n",
        "\n",
        "for marker in top_k_markers:\n",
        "    start_time = marker[\"heatMarkerRenderer\"][\"timeRangeStartMillis\"]\n",
        "    duration = marker[\"heatMarkerRenderer\"][\"markerDurationMillis\"]\n",
        "\n",
        "    if (duration / 1e3) > 60:\n",
        "        duration = 59 * 1e3\n",
        "\n",
        "    below_video = VideoFileClip(below_video_file_path).subclip(10, 10 + duration/1e3).without_audio()\n",
        "    video = main_video_with_subtitles.subclip((start_time)/1e3,(start_time + duration)/1e3)\n",
        "\n",
        "    combined = clips_array([[video], [below_video]])\n",
        "    combined = combined.resize((1080,1920))\n",
        "\n",
        "    audio_background = AudioFileClip(bgm_mp3_file_path).subclip(10, 10+duration/1e3).fx(moviepy.audio.fx.all.volumex, 0.9)\n",
        "    final_audio = CompositeAudioClip([combined.audio, audio_background])\n",
        "    final_clip = combined.set_audio(final_audio)\n",
        "\n",
        "    videos.append(final_clip)\n",
        "\n",
        "download_videos(videos)"
      ],
      "metadata": {
        "id": "nijeMfhkmIeN",
        "outputId": "edcd871e-c4e1-4049-e0f6-35d9232b77f9",
        "colab": {
          "base_uri": "https://localhost:8080/",
          "height": 211
        }
      },
      "execution_count": 2,
      "outputs": [
        {
          "output_type": "error",
          "ename": "NameError",
          "evalue": "name 'get_all_markers' is not defined",
          "traceback": [
            "\u001b[0;31m---------------------------------------------------------------------------\u001b[0m",
            "\u001b[0;31mNameError\u001b[0m                                 Traceback (most recent call last)",
            "\u001b[0;32m<ipython-input-2-7dcfe4a2f61c>\u001b[0m in \u001b[0;36m<cell line: 7>\u001b[0;34m()\u001b[0m\n\u001b[1;32m      5\u001b[0m \u001b[0mk\u001b[0m \u001b[0;34m=\u001b[0m \u001b[0;36m2\u001b[0m \u001b[0;31m#@param {type:\"integer\"}\u001b[0m\u001b[0;34m\u001b[0m\u001b[0;34m\u001b[0m\u001b[0m\n\u001b[1;32m      6\u001b[0m \u001b[0;34m\u001b[0m\u001b[0m\n\u001b[0;32m----> 7\u001b[0;31m \u001b[0mall_markers\u001b[0m \u001b[0;34m=\u001b[0m \u001b[0mget_all_markers\u001b[0m\u001b[0;34m(\u001b[0m\u001b[0mmain_video_id\u001b[0m\u001b[0;34m)\u001b[0m\u001b[0;34m\u001b[0m\u001b[0;34m\u001b[0m\u001b[0m\n\u001b[0m\u001b[1;32m      8\u001b[0m \u001b[0mtop_k_markers\u001b[0m \u001b[0;34m=\u001b[0m \u001b[0mget_top_k_moments\u001b[0m\u001b[0;34m(\u001b[0m\u001b[0mall_markers\u001b[0m\u001b[0;34m,\u001b[0m \u001b[0mk\u001b[0m\u001b[0;34m=\u001b[0m\u001b[0mk\u001b[0m\u001b[0;34m)\u001b[0m\u001b[0;34m\u001b[0m\u001b[0;34m\u001b[0m\u001b[0m\n\u001b[1;32m      9\u001b[0m \u001b[0;34m\u001b[0m\u001b[0m\n",
            "\u001b[0;31mNameError\u001b[0m: name 'get_all_markers' is not defined"
          ]
        }
      ]
    }
  ]
}